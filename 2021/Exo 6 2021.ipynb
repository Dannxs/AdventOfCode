{
 "cells": [
  {
   "cell_type": "code",
   "execution_count": 2,
   "metadata": {},
   "outputs": [
    {
     "name": "stdout",
     "output_type": "stream",
     "text": [
      "353079\n",
      "1605400130036\n"
     ]
    }
   ],
   "source": [
    "import re\n",
    "from collections import defaultdict\n",
    "\n",
    "inp = [line.strip() for line in open('./txtfile/exo6.txt', 'r')]\n",
    "fish = list(map(int, re.findall(r'\\d+', inp[0])))\n",
    "\n",
    "\n",
    "def Solve(rounds):\n",
    "    d = defaultdict(int)\n",
    "    for f in fish:\n",
    "        d[f] += 1\n",
    "    for r in range(0, rounds):\n",
    "        zeros = d[0]\n",
    "        for i in range(1, 8 + 1):\n",
    "            d[i - 1] = d[i]\n",
    "        d[6] += zeros\n",
    "        d[8] = zeros\n",
    "\n",
    "    l = sum(d.values())\n",
    "    print(l)\n",
    "\n",
    "\n",
    "Solve(80)\n",
    "# 355386\n",
    "Solve(256)\n",
    "# 1613415325809"
   ]
  },
  {
   "cell_type": "code",
   "execution_count": 31,
   "metadata": {},
   "outputs": [
    {
     "data": {
      "text/plain": [
       "353079"
      ]
     },
     "execution_count": 31,
     "metadata": {},
     "output_type": "execute_result"
    }
   ],
   "source": [
    "with open(\"./txtfile/exo6.txt\", \"r\") as f :\n",
    "    fichier_entier = f.read()\n",
    "    files = fichier_entier.split(\",\")\n",
    "\n",
    "def to_int(n):\n",
    "    return int(n)\n",
    "\n",
    "list_fish = list(map(to_int, files))\n",
    "\n",
    "def day_pass(rounds):\n",
    "    for r in range(0, rounds):\n",
    "        new_list_fish = []\n",
    "        global list_fish\n",
    "        for index, fish in enumerate(list_fish):\n",
    "            list_fish[index] -= 1\n",
    "            if list_fish[index] < 0:\n",
    "                new_list_fish.append(8)\n",
    "                list_fish[index] = 6\n",
    "        list_fish += new_list_fish\n",
    "    return len(list_fish)\n",
    "\n",
    "day_pass(80)\n",
    "\n",
    "day_pass(256)"
   ]
  }
 ],
 "metadata": {
  "interpreter": {
   "hash": "23d24ff32a39395fcdc68e13f5d327de8f48f6796c73d2c25464bd1cbd483aa1"
  },
  "kernelspec": {
   "display_name": "Python 3.8.12 64-bit ('lewagon': pyenv)",
   "language": "python",
   "name": "python3"
  },
  "language_info": {
   "codemirror_mode": {
    "name": "ipython",
    "version": 3
   },
   "file_extension": ".py",
   "mimetype": "text/x-python",
   "name": "python",
   "nbconvert_exporter": "python",
   "pygments_lexer": "ipython3",
   "version": "3.8.12"
  },
  "orig_nbformat": 4
 },
 "nbformat": 4,
 "nbformat_minor": 2
}
