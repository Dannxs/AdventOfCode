{
 "cells": [
  {
   "cell_type": "code",
   "execution_count": 1,
   "metadata": {},
   "outputs": [
    {
     "name": "stdout",
     "output_type": "stream",
     "text": [
      "311949\n",
      "3042730309\n"
     ]
    }
   ],
   "source": [
    "from bisect import insort\n",
    "\n",
    "\n",
    "def get_mismatches(line):\n",
    "    brackets = {'(': ')', '[': ']', '<': '>', '{': '}'}\n",
    "    stack = []\n",
    "    for i, char in enumerate(line):\n",
    "        if char in brackets:\n",
    "            stack.append(i)\n",
    "        if char in brackets.values():\n",
    "            if brackets[line[stack.pop()]] != char:\n",
    "                return [char]\n",
    "    return [brackets[line[i]] for i in reversed(stack)]\n",
    "\n",
    "\n",
    "with open('./txtfile/exo10.txt') as f:\n",
    "    data = list(f)\n",
    "\n",
    "mismatch_weights = {')': 3, ']': 57, '}': 1197, '>': 25137}\n",
    "closing_weights = {')': 1, ']': 2, '}': 3, '>': 4}\n",
    "\n",
    "mismatch_score = 0\n",
    "scores = []\n",
    "for line in data:\n",
    "    mismatches = get_mismatches(line)\n",
    "    if len(mismatches) == 1:\n",
    "        mismatch_score += mismatch_weights[mismatches[0]]\n",
    "    else:\n",
    "        partial = 0\n",
    "        for bracket in mismatches:\n",
    "            partial = partial * 5 + closing_weights[bracket]\n",
    "        insort(scores, partial)\n",
    "\n",
    "print(mismatch_score)\n",
    "print(scores[len(scores) // 2])"
   ]
  }
 ],
 "metadata": {
  "interpreter": {
   "hash": "23d24ff32a39395fcdc68e13f5d327de8f48f6796c73d2c25464bd1cbd483aa1"
  },
  "kernelspec": {
   "display_name": "Python 3.8.12 64-bit ('lewagon': pyenv)",
   "language": "python",
   "name": "python3"
  },
  "language_info": {
   "codemirror_mode": {
    "name": "ipython",
    "version": 3
   },
   "file_extension": ".py",
   "mimetype": "text/x-python",
   "name": "python",
   "nbconvert_exporter": "python",
   "pygments_lexer": "ipython3",
   "version": "3.8.12"
  },
  "orig_nbformat": 4
 },
 "nbformat": 4,
 "nbformat_minor": 2
}
