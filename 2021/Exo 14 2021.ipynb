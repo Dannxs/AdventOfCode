{
 "cells": [
  {
   "cell_type": "code",
   "execution_count": 1,
   "metadata": {},
   "outputs": [
    {
     "name": "stdout",
     "output_type": "stream",
     "text": [
      "2223\n",
      "2566282754493\n"
     ]
    }
   ],
   "source": [
    "import re\n",
    "from collections import Counter, defaultdict\n",
    "\n",
    "\n",
    "def run(n, template, rules):\n",
    "    chars = defaultdict(int, Counter(template))\n",
    "    template = Counter(zip(template, template[1:]))\n",
    "    for _ in range(n):\n",
    "        temp = defaultdict(int)\n",
    "        for pair, count in template.items():\n",
    "            chars[rules[pair]] += count\n",
    "            temp[pair[0], rules[pair]] += count\n",
    "            temp[rules[pair], pair[1]] += count\n",
    "        template = temp\n",
    "    return max(chars.values()) - min(chars.values())\n",
    "\n",
    "\n",
    "with open('./txtfile/exo14.txt') as f:\n",
    "    template, rules = f.read().split('\\n\\n')\n",
    "\n",
    "rules = re.findall(r'(\\w+) -> (\\w+)', rules)\n",
    "rules = {tuple(pair): value for pair, value in rules}\n",
    "\n",
    "print(run(10, template, rules))\n",
    "print(run(40, template, rules))"
   ]
  }
 ],
 "metadata": {
  "interpreter": {
   "hash": "23d24ff32a39395fcdc68e13f5d327de8f48f6796c73d2c25464bd1cbd483aa1"
  },
  "kernelspec": {
   "display_name": "Python 3.8.12 64-bit ('lewagon': pyenv)",
   "language": "python",
   "name": "python3"
  },
  "language_info": {
   "codemirror_mode": {
    "name": "ipython",
    "version": 3
   },
   "file_extension": ".py",
   "mimetype": "text/x-python",
   "name": "python",
   "nbconvert_exporter": "python",
   "pygments_lexer": "ipython3",
   "version": "3.8.12"
  },
  "orig_nbformat": 4
 },
 "nbformat": 4,
 "nbformat_minor": 2
}
