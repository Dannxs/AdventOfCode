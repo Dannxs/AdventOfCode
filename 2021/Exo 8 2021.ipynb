{
 "cells": [
  {
   "cell_type": "code",
   "execution_count": 9,
   "metadata": {},
   "outputs": [
    {
     "name": "stdout",
     "output_type": "stream",
     "text": [
      "362\n"
     ]
    }
   ],
   "source": [
    "with open('./txtfile/exo8.txt') as file:\n",
    "    data = [i.split('|') for i in file.read().split('\\n')]\n",
    "\n",
    "dict = {0: 0, 1: 0, 2: 0, 3: 0, 4: 0, 5: 0, 6: 0, 7: 0, 8: 0, 9: 0}\n",
    "\n",
    "for x, y in data:\n",
    "    for output in y.strip().split(' '):\n",
    "        if len(output) == 2:\n",
    "            dict[1] += 1\n",
    "\n",
    "        elif len(output) == 4:\n",
    "            dict[4] += 1\n",
    "\n",
    "        elif len(output) == 3:\n",
    "            dict[7] += 1\n",
    "\n",
    "        elif len(output) == 7:\n",
    "            dict[8] += 1\n",
    "\n",
    "print(sum([i for i in dict.values()]))\n"
   ]
  },
  {
   "cell_type": "code",
   "execution_count": 3,
   "metadata": {},
   "outputs": [
    {
     "name": "stdout",
     "output_type": "stream",
     "text": [
      "362\n",
      "1020159\n"
     ]
    }
   ],
   "source": [
    "with open('./txtfile/exo8.txt') as f:\n",
    "    lines = f.read().splitlines()\n",
    "\n",
    "signals = []\n",
    "outputs = []\n",
    "r1 = 0\n",
    "for line in lines:\n",
    "    line = line.split(' | ')\n",
    "    signals.append(line[0].split())\n",
    "    outputs.append(line[1].split())\n",
    "    r1 += sum([(2 <= len(i) <= 4) or len(i) == 7 for i in outputs[-1]])\n",
    "\n",
    "print(r1)\n",
    "\n",
    "partie2 = 0\n",
    "for signal, output in zip(signals, outputs):\n",
    "    mapping = ['' for i in range(10)]\n",
    "    signal = sorted(signal, key=len)\n",
    "    for i in signal:\n",
    "        if   len(i) == 2: mapping[1] = i\n",
    "        elif len(i) == 3: mapping[7] = i\n",
    "        elif len(i) == 4: mapping[4] = i\n",
    "        elif len(i) == 5:\n",
    "            if   all([c in i for c in mapping[1]]): mapping[3] = i\n",
    "            elif sum([c in i for c in mapping[4]]) == 3: mapping[5] = i\n",
    "            else: mapping[2] = i\n",
    "        elif len(i) == 6:\n",
    "            if   all([c in i for c in mapping[4]]): mapping[9] = i\n",
    "            elif all([c in i for c in mapping[7]]): mapping[0] = i\n",
    "            else: mapping[6] = i\n",
    "        else: mapping[8] = i\n",
    "\n",
    "    output = 0\n",
    "    for j, n in enumerate(output[::-1]):\n",
    "        for i in range(10):\n",
    "            if all([c in n for c in mapping[i]]) and len(mapping[i]) == len(n):\n",
    "                output += i * 10 ** j\n",
    "                break\n",
    "\n",
    "    partie2 += int(output)\n",
    "\n",
    "print(partie2)"
   ]
  }
 ],
 "metadata": {
  "interpreter": {
   "hash": "23d24ff32a39395fcdc68e13f5d327de8f48f6796c73d2c25464bd1cbd483aa1"
  },
  "kernelspec": {
   "display_name": "Python 3.8.12 64-bit ('lewagon': pyenv)",
   "language": "python",
   "name": "python3"
  },
  "language_info": {
   "codemirror_mode": {
    "name": "ipython",
    "version": 3
   },
   "file_extension": ".py",
   "mimetype": "text/x-python",
   "name": "python",
   "nbconvert_exporter": "python",
   "pygments_lexer": "ipython3",
   "version": "3.8.12"
  },
  "orig_nbformat": 4
 },
 "nbformat": 4,
 "nbformat_minor": 2
}
