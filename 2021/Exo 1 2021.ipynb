{
 "cells": [
  {
   "cell_type": "code",
   "execution_count": 3,
   "id": "daed9793",
   "metadata": {},
   "outputs": [],
   "source": [
    "with open(\"./txtfile/exo2.txt\", \"r\") as f :\n",
    "    fichier_entier = f.read()\n",
    "    files = fichier_entier.split(\"\\n\")"
   ]
  },
  {
   "cell_type": "code",
   "execution_count": 2,
   "id": "2ea6ee68",
   "metadata": {},
   "outputs": [
    {
     "data": {
      "text/plain": [
       "list"
      ]
     },
     "execution_count": 2,
     "metadata": {},
     "output_type": "execute_result"
    }
   ],
   "source": [
    "type(files)"
   ]
  },
  {
   "cell_type": "code",
   "execution_count": 3,
   "id": "05d09f37",
   "metadata": {},
   "outputs": [
    {
     "data": {
      "text/plain": [
       "2000"
      ]
     },
     "execution_count": 3,
     "metadata": {},
     "output_type": "execute_result"
    }
   ],
   "source": [
    "len(files)"
   ]
  },
  {
   "cell_type": "code",
   "execution_count": 9,
   "id": "56a37d96",
   "metadata": {},
   "outputs": [
    {
     "name": "stdout",
     "output_type": "stream",
     "text": [
      "1616\n"
     ]
    }
   ],
   "source": [
    "i = 1\n",
    "output = 0\n",
    "while i < len(files):\n",
    "    if int(files[i - 1]) < int(files[i]):\n",
    "      output += 1\n",
    "    i += 1\n",
    "print(output)"
   ]
  },
  {
   "cell_type": "markdown",
   "id": "11104aee",
   "metadata": {},
   "source": [
    "Part 2"
   ]
  },
  {
   "cell_type": "code",
   "execution_count": 10,
   "id": "b34eb72c",
   "metadata": {},
   "outputs": [
    {
     "name": "stdout",
     "output_type": "stream",
     "text": [
      "1645\n"
     ]
    }
   ],
   "source": [
    "i = 3\n",
    "output = 0\n",
    "while i < len(files):\n",
    "    if (int(files[i - 3]) + int(files[i - 2]) + int(files[i - 1])) < (int(files[i - 2]) + int(files[i - 1]) + int(files[i])):\n",
    "      output += 1\n",
    "    i += 1\n",
    "print(output)"
   ]
  }
 ],
 "metadata": {
  "kernelspec": {
   "display_name": "Python 3 (ipykernel)",
   "language": "python",
   "name": "python3"
  },
  "language_info": {
   "codemirror_mode": {
    "name": "ipython",
    "version": 3
   },
   "file_extension": ".py",
   "mimetype": "text/x-python",
   "name": "python",
   "nbconvert_exporter": "python",
   "pygments_lexer": "ipython3",
   "version": "3.8.12"
  },
  "toc": {
   "base_numbering": 1,
   "nav_menu": {},
   "number_sections": true,
   "sideBar": true,
   "skip_h1_title": false,
   "title_cell": "Table of Contents",
   "title_sidebar": "Contents",
   "toc_cell": false,
   "toc_position": {},
   "toc_section_display": true,
   "toc_window_display": false
  }
 },
 "nbformat": 4,
 "nbformat_minor": 5
}
