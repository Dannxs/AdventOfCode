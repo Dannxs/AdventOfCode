{
 "cells": [
  {
   "cell_type": "code",
   "execution_count": 7,
   "metadata": {},
   "outputs": [
    {
     "name": "stdout",
     "output_type": "stream",
     "text": [
      "Number of dangerous zones: 5373\n",
      "Number of dangerous zones including diagonals: 21514\n"
     ]
    }
   ],
   "source": [
    "#!/usr/bin/env python3\n",
    "\n",
    "\"\"\"Advent of Code 2021 Day 5 - Hydrothermal Venture\"\"\"\n",
    "\n",
    "import re\n",
    "\n",
    "\n",
    "with open('./txtfile/exo5.txt', 'r') as aoc_input:\n",
    "    lines = [re.findall(r'(\\d*),(\\d*)', x) for x in aoc_input.readlines()]\n",
    "    lines = [[(int(x), int(y)) for x, y in tup] for tup in lines]\n",
    "\n",
    "coords_dict = {}\n",
    "for line in lines:\n",
    "    current_x, current_y = line[0]\n",
    "    end_x, end_y = line[1]\n",
    "    initial_x = current_x  # Needed for column loop entering logic\n",
    "\n",
    "    if current_y == end_y:\n",
    "\n",
    "        while True:\n",
    "            coords = (current_x, current_y)\n",
    "            if coords_dict.get(coords, '.') == '.':\n",
    "                coords_dict[coords] = 1\n",
    "            else:\n",
    "                coords_dict[coords] += 1\n",
    "\n",
    "            if current_x == end_x:\n",
    "                break\n",
    "\n",
    "            current_x += 1 if current_x < end_x else -1\n",
    "\n",
    "    if initial_x == end_x:\n",
    "\n",
    "        while True:\n",
    "            coords = (current_x, current_y)\n",
    "            if coords_dict.get(coords, '.') == '.':\n",
    "                coords_dict[coords] = 1\n",
    "            else:\n",
    "                coords_dict[coords] += 1\n",
    "\n",
    "            if current_y == end_y:\n",
    "                break\n",
    "\n",
    "            current_y += 1 if current_y < end_y else -1\n",
    "\n",
    "dangerous_zones = sum([1 if x > 1 else 0 for x in coords_dict.values()])\n",
    "\n",
    "# Answer One\n",
    "print(\"Number of dangerous zones:\", dangerous_zones)\n",
    "\n",
    "for line in lines:\n",
    "    current_x, current_y = line[0]\n",
    "    end_x, end_y = line[1]\n",
    "\n",
    "    # Already been processed in part one\n",
    "    if current_x == end_x or current_y == end_y:\n",
    "        continue\n",
    "\n",
    "    while True:\n",
    "        coords = (current_x, current_y)\n",
    "        if coords_dict.get(coords, '.') == '.':\n",
    "            coords_dict[coords] = 1\n",
    "        else:\n",
    "            coords_dict[coords] += 1\n",
    "\n",
    "        if current_x == end_x:\n",
    "            break\n",
    "\n",
    "        current_x += 1 if current_x < end_x else -1\n",
    "        current_y += 1 if current_y < end_y else -1\n",
    "\n",
    "dangerous_zones = sum([1 if x > 1 else 0 for x in coords_dict.values()])\n",
    "\n",
    "# Answer Two\n",
    "print(\"Number of dangerous zones including diagonals:\", dangerous_zones)"
   ]
  }
 ],
 "metadata": {
  "interpreter": {
   "hash": "23d24ff32a39395fcdc68e13f5d327de8f48f6796c73d2c25464bd1cbd483aa1"
  },
  "kernelspec": {
   "display_name": "Python 3.8.12 64-bit ('lewagon': pyenv)",
   "language": "python",
   "name": "python3"
  },
  "language_info": {
   "codemirror_mode": {
    "name": "ipython",
    "version": 3
   },
   "file_extension": ".py",
   "mimetype": "text/x-python",
   "name": "python",
   "nbconvert_exporter": "python",
   "pygments_lexer": "ipython3",
   "version": "3.8.12"
  },
  "orig_nbformat": 4
 },
 "nbformat": 4,
 "nbformat_minor": 2
}
