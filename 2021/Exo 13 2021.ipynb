{
 "cells": [
  {
   "cell_type": "code",
   "execution_count": 4,
   "metadata": {},
   "outputs": [
    {
     "name": "stdout",
     "output_type": "stream",
     "text": [
      "666\n"
     ]
    }
   ],
   "source": [
    "with open('./txtfile/exo13.txt') as f:\n",
    "  dots, instructions = f.read().split('\\n\\n')\n",
    "\n",
    "dots = dots.split('\\n')\n",
    "instructions = instructions.split('\\n')[:-1]\n",
    "\n",
    "board = set()\n",
    "for dot in dots:\n",
    "  board.add(map(int, dot.split(',')))\n",
    "\n",
    "for instruction in instructions:\n",
    "  instruction = instruction.split('fold along ')[1]\n",
    "  direction, location = instruction.split('=')\n",
    "  direction = { 'x': 0, 'y': 1 }[direction]\n",
    "  location = int(location)\n",
    "\n",
    "  new_board = set()\n",
    "  for dot in board:\n",
    "    dot = list(dot)\n",
    "    if dot[direction] > location:\n",
    "      dot[direction] = 2*location - dot[direction]\n",
    "    new_board.add(tuple(dot))\n",
    "  board = new_board\n",
    "  break\n",
    "\n",
    "print(len(new_board))"
   ]
  },
  {
   "cell_type": "code",
   "execution_count": null,
   "metadata": {},
   "outputs": [],
   "source": [
    "with open('./txtfile/exo13.txt') as f:\n",
    "  dots, instructions = f.read().split('\\n\\n')\n",
    "\n",
    "dots = dots.split('\\n')\n",
    "instructions = instructions.split('\\n')[:-1]\n",
    "\n",
    "board = set()\n",
    "for dot in dots:\n",
    "  board.add(map(int, dot.split(',')))\n",
    "\n",
    "def print_board(board):\n",
    "  max_x = max([x for x, y in board])\n",
    "  max_y = max([y for x, y in board])\n",
    "\n",
    "  for y in range(max_y + 1):\n",
    "    for x in range(max_x + 1):\n",
    "      if (x, y) in board:\n",
    "        print('#', end='')\n",
    "      else:\n",
    "        print('.', end='')\n",
    "    print()\n",
    "  print()\n",
    "\n",
    "for instruction in instructions:\n",
    "  instruction = instruction.split('fold along ')[1]\n",
    "  direction, location = instruction.split('=')\n",
    "  direction = { 'x': 0, 'y': 1 }[direction]\n",
    "  location = int(location)\n",
    "\n",
    "  new_board = set()\n",
    "  for dot in board:\n",
    "    dot = list(dot)\n",
    "    if dot[direction] > location:\n",
    "      dot[direction] = 2*location - dot[direction]\n",
    "    new_board.add(tuple(dot))\n",
    "  board = new_board\n",
    "\n",
    "print_board(board)"
   ]
  }
 ],
 "metadata": {
  "interpreter": {
   "hash": "23d24ff32a39395fcdc68e13f5d327de8f48f6796c73d2c25464bd1cbd483aa1"
  },
  "kernelspec": {
   "display_name": "Python 3.8.12 64-bit ('lewagon': pyenv)",
   "language": "python",
   "name": "python3"
  },
  "language_info": {
   "codemirror_mode": {
    "name": "ipython",
    "version": 3
   },
   "file_extension": ".py",
   "mimetype": "text/x-python",
   "name": "python",
   "nbconvert_exporter": "python",
   "pygments_lexer": "ipython3",
   "version": "3.8.12"
  },
  "orig_nbformat": 4
 },
 "nbformat": 4,
 "nbformat_minor": 2
}
