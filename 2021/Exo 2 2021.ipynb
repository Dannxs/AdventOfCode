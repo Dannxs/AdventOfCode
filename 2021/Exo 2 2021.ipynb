{
 "cells": [
  {
   "cell_type": "code",
   "execution_count": 5,
   "metadata": {},
   "outputs": [],
   "source": [
    "with open(\"./txtfile/exo2.txt\", \"r\") as f :\n",
    "    fichier_entier = f.read()\n",
    "    files = fichier_entier.split(\"\\n\")"
   ]
  },
  {
   "cell_type": "code",
   "execution_count": 11,
   "metadata": {},
   "outputs": [
    {
     "name": "stdout",
     "output_type": "stream",
     "text": [
      "x = 1950\n",
      "depth = 864198\n",
      "aim = 823\n"
     ]
    }
   ],
   "source": [
    "forward = 0\n",
    "depth = 0\n",
    "aim = 0\n",
    "for value in files:\n",
    "    value = value.split(\" \")\n",
    "    if value[0] == \"forward\":\n",
    "        forward += int(value[1])\n",
    "        depth = depth + (int(value[1]) * aim)\n",
    "    if value[0] == \"up\":\n",
    "        aim -= int(value[1])\n",
    "    if value[0] == \"down\":\n",
    "        aim += int(value[1])\n",
    "print(f\"x = {forward}\")\n",
    "print(f\"depth = {depth}\")\n",
    "print(f\"aim = {aim}\")"
   ]
  },
  {
   "cell_type": "code",
   "execution_count": 12,
   "metadata": {},
   "outputs": [
    {
     "data": {
      "text/plain": [
       "1685186100"
      ]
     },
     "execution_count": 12,
     "metadata": {},
     "output_type": "execute_result"
    }
   ],
   "source": [
    "forward * depth"
   ]
  }
 ],
 "metadata": {
  "interpreter": {
   "hash": "23d24ff32a39395fcdc68e13f5d327de8f48f6796c73d2c25464bd1cbd483aa1"
  },
  "kernelspec": {
   "display_name": "Python 3.8.12 64-bit ('lewagon': pyenv)",
   "language": "python",
   "name": "python3"
  },
  "language_info": {
   "codemirror_mode": {
    "name": "ipython",
    "version": 3
   },
   "file_extension": ".py",
   "mimetype": "text/x-python",
   "name": "python",
   "nbconvert_exporter": "python",
   "pygments_lexer": "ipython3",
   "version": "3.8.12"
  },
  "orig_nbformat": 4
 },
 "nbformat": 4,
 "nbformat_minor": 2
}
