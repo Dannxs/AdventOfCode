{
 "cells": [
  {
   "cell_type": "code",
   "execution_count": 4,
   "metadata": {},
   "outputs": [],
   "source": [
    "with open(\"./txtfile/input_dorian.txt\", \"r\") as f :\n",
    "    fichier_entier = f.read()\n",
    "    files = fichier_entier.split(\"\\n\")"
   ]
  },
  {
   "cell_type": "code",
   "execution_count": 5,
   "metadata": {},
   "outputs": [
    {
     "ename": "IndexError",
     "evalue": "index 1 is out of bounds for axis 0 with size 1",
     "output_type": "error",
     "traceback": [
      "\u001b[0;31m---------------------------------------------------------------------------\u001b[0m",
      "\u001b[0;31mIndexError\u001b[0m                                Traceback (most recent call last)",
      "\u001b[0;32m/tmp/ipykernel_8190/2290745082.py\u001b[0m in \u001b[0;36m<module>\u001b[0;34m\u001b[0m\n\u001b[1;32m     96\u001b[0m     \u001b[0mdata\u001b[0m \u001b[0;34m=\u001b[0m \u001b[0mdata\u001b[0m\u001b[0;34m[\u001b[0m\u001b[0mdata\u001b[0m\u001b[0;34m.\u001b[0m\u001b[0marr8\u001b[0m \u001b[0;34m!=\u001b[0m \u001b[0;34m\"1\"\u001b[0m\u001b[0;34m]\u001b[0m\u001b[0;34m\u001b[0m\u001b[0;34m\u001b[0m\u001b[0m\n\u001b[1;32m     97\u001b[0m \u001b[0;34m\u001b[0m\u001b[0m\n\u001b[0;32m---> 98\u001b[0;31m \u001b[0;32mif\u001b[0m \u001b[0mdata\u001b[0m\u001b[0;34m.\u001b[0m\u001b[0marr9\u001b[0m\u001b[0;34m.\u001b[0m\u001b[0mvalue_counts\u001b[0m\u001b[0;34m(\u001b[0m\u001b[0mascending\u001b[0m\u001b[0;34m=\u001b[0m\u001b[0;32mTrue\u001b[0m\u001b[0;34m)\u001b[0m\u001b[0;34m.\u001b[0m\u001b[0mindex\u001b[0m\u001b[0;34m[\u001b[0m\u001b[0;36m1\u001b[0m\u001b[0;34m]\u001b[0m \u001b[0;34m==\u001b[0m \u001b[0;34m\"0\"\u001b[0m\u001b[0;34m:\u001b[0m\u001b[0;34m\u001b[0m\u001b[0;34m\u001b[0m\u001b[0m\n\u001b[0m\u001b[1;32m     99\u001b[0m     \u001b[0mdata\u001b[0m \u001b[0;34m=\u001b[0m \u001b[0mdata\u001b[0m\u001b[0;34m[\u001b[0m\u001b[0mdata\u001b[0m\u001b[0;34m.\u001b[0m\u001b[0marr9\u001b[0m \u001b[0;34m!=\u001b[0m \u001b[0;34m\"0\"\u001b[0m\u001b[0;34m]\u001b[0m\u001b[0;34m\u001b[0m\u001b[0;34m\u001b[0m\u001b[0m\n\u001b[1;32m    100\u001b[0m \u001b[0;32melse\u001b[0m\u001b[0;34m:\u001b[0m\u001b[0;34m\u001b[0m\u001b[0;34m\u001b[0m\u001b[0m\n",
      "\u001b[0;32m~/.pyenv/versions/3.8.12/envs/lewagon/lib/python3.8/site-packages/pandas/core/indexes/base.py\u001b[0m in \u001b[0;36m__getitem__\u001b[0;34m(self, key)\u001b[0m\n\u001b[1;32m   3956\u001b[0m         \u001b[0;32mif\u001b[0m \u001b[0mis_scalar\u001b[0m\u001b[0;34m(\u001b[0m\u001b[0mkey\u001b[0m\u001b[0;34m)\u001b[0m\u001b[0;34m:\u001b[0m\u001b[0;34m\u001b[0m\u001b[0;34m\u001b[0m\u001b[0m\n\u001b[1;32m   3957\u001b[0m             \u001b[0mkey\u001b[0m \u001b[0;34m=\u001b[0m \u001b[0mcom\u001b[0m\u001b[0;34m.\u001b[0m\u001b[0mcast_scalar_indexer\u001b[0m\u001b[0;34m(\u001b[0m\u001b[0mkey\u001b[0m\u001b[0;34m)\u001b[0m\u001b[0;34m\u001b[0m\u001b[0;34m\u001b[0m\u001b[0m\n\u001b[0;32m-> 3958\u001b[0;31m             \u001b[0;32mreturn\u001b[0m \u001b[0mgetitem\u001b[0m\u001b[0;34m(\u001b[0m\u001b[0mkey\u001b[0m\u001b[0;34m)\u001b[0m\u001b[0;34m\u001b[0m\u001b[0;34m\u001b[0m\u001b[0m\n\u001b[0m\u001b[1;32m   3959\u001b[0m \u001b[0;34m\u001b[0m\u001b[0m\n\u001b[1;32m   3960\u001b[0m         \u001b[0;32mif\u001b[0m \u001b[0misinstance\u001b[0m\u001b[0;34m(\u001b[0m\u001b[0mkey\u001b[0m\u001b[0;34m,\u001b[0m \u001b[0mslice\u001b[0m\u001b[0;34m)\u001b[0m\u001b[0;34m:\u001b[0m\u001b[0;34m\u001b[0m\u001b[0;34m\u001b[0m\u001b[0m\n",
      "\u001b[0;31mIndexError\u001b[0m: index 1 is out of bounds for axis 0 with size 1"
     ]
    }
   ],
   "source": [
    "import pandas as pd\n",
    "arr1=[]\n",
    "arr2=[]\n",
    "arr3=[]\n",
    "arr4=[]\n",
    "arr5=[]\n",
    "arr6=[]\n",
    "arr7=[]\n",
    "arr8=[]\n",
    "arr9=[]\n",
    "arr10=[]\n",
    "arr11=[]\n",
    "arr12=[]\n",
    "\n",
    "gamma_rate = []\n",
    "epsilon_rate = []\n",
    "for file in files:\n",
    "    for index, value in enumerate(file):\n",
    "        if index == 0:\n",
    "            arr1.append(value)\n",
    "        if index == 1:\n",
    "            arr2.append(value)\n",
    "        if index == 2:\n",
    "            arr3.append(value)\n",
    "        if index == 3:\n",
    "            arr4.append(value)\n",
    "        if index == 4:\n",
    "            arr5.append(value)\n",
    "        if index == 5:\n",
    "            arr6.append(value)\n",
    "        if index == 6:\n",
    "            arr7.append(value)\n",
    "        if index == 7:\n",
    "            arr8.append(value)\n",
    "        if index == 8:\n",
    "            arr9.append(value)\n",
    "        if index == 9:\n",
    "            arr10.append(value)\n",
    "        if index == 10:\n",
    "            arr11.append(value)\n",
    "        if index == 11:\n",
    "            arr12.append(value)\n",
    "arr = [arr1, arr2, arr3, arr4, arr5, arr6, arr7, arr8, arr9, arr10, arr11, arr12]\n",
    "data = pd.DataFrame({'arr1':arr1,\n",
    "              'arr2': arr2,\n",
    "              'arr3': arr3,\n",
    "              'arr4': arr4,\n",
    "              'arr5': arr5,\n",
    "              'arr6': arr6,\n",
    "              'arr7': arr7,\n",
    "              'arr8': arr8,\n",
    "              'arr9': arr9,\n",
    "              'arr10': arr10,\n",
    "              'arr11': arr11,\n",
    "              'arr12': arr12})\n",
    "\n",
    "\n",
    "if  data.arr1.value_counts(ascending=True).index[1] == \"1\":\n",
    "    data = data[data.arr1 != \"0\"]\n",
    "else:\n",
    "    data = data[data.arr1 != \"1\"]\n",
    "    \n",
    "if  data.arr2.value_counts(ascending=True).index[1] == \"1\":\n",
    "    data = data[data.arr2 != \"0\"]\n",
    "else:\n",
    "    data = data[data.arr2 != \"1\"]\n",
    "\n",
    "if data.arr3.value_counts(ascending=True).index[1] == \"1\":\n",
    "    data = data[data.arr3 != \"0\"]\n",
    "else:\n",
    "    data = data[data.arr3 != \"1\"]\n",
    "\n",
    "if data.arr4.value_counts(ascending=True).index[1] == \"1\":\n",
    "    data = data[data.arr4 != \"0\"]\n",
    "else:\n",
    "    data = data[data.arr4 != \"1\"]\n",
    "\n",
    "if data.arr5.value_counts(ascending=True).index[1] == \"1\":\n",
    "    data = data[data.arr5 != \"0\"]\n",
    "else:\n",
    "    data = data[data.arr5 != \"1\"]\n",
    "\n",
    "if data.arr6.value_counts(ascending=True).index[1] == \"1\":\n",
    "    data = data[data.arr6 != \"0\"]\n",
    "else:\n",
    "    data = data[data.arr6 != \"1\"]\n",
    "    \n",
    "if data.arr7.value_counts(ascending=True).index[1] == \"1\":\n",
    "    data = data[data.arr7 != \"0\"]\n",
    "else:\n",
    "    data = data[data.arr7 != \"1\"]\n",
    "\n",
    "if data.arr8.value_counts(ascending=True).index[1] == \"1\":\n",
    "    data = data[data.arr8 != \"0\"]\n",
    "else:\n",
    "    data = data[data.arr8 != \"1\"]\n",
    "\n",
    "if data.arr9.value_counts(ascending=True).index[1] == \"1\":\n",
    "    data = data[data.arr9 != \"0\"]\n",
    "else:\n",
    "    data = data[data.arr9 != \"1\"]\n",
    "\n",
    "if data.arr10.value_counts(ascending=True).index[1] == \"1\":\n",
    "    data = data[data.arr10 != \"0\"]\n",
    "else:\n",
    "    data = data[data.arr10 != \"1\"]\n",
    "\n",
    "if data.arr11.value_counts(ascending=True).index[1] == \"1\":\n",
    "    data = data[data.arr11 != \"0\"]\n",
    "else:\n",
    "    data = data[data.arr11 != \"1\"]\n",
    "\n",
    "if data.arr12.value_counts(ascending=True).index[1] == \"1\":\n",
    "    data = data[data.arr12 != \"0\"]\n",
    "else:\n",
    "    data = data[data.arr12 != \"1\"]\n",
    "    \n",
    "if  data.arr1.value_counts(ascending=True).index[1] == \"1\":\n",
    "    data = data[data.arr1 != \"0\"]\n",
    "else:\n",
    "    data = data[data.arr1 != \"1\"]\n",
    "    \n",
    "if  data.arr2.value_counts(ascending=True).index[1] == \"1\":\n",
    "    data = data[data.arr2 != \"0\"]\n",
    "else:\n",
    "    data = data[data.arr2 != \"1\"]\n",
    "\n",
    "if data.arr3.value_counts(ascending=True).index[1] == \"1\":\n",
    "    data = data[data.arr3 != \"0\"]\n",
    "else:\n",
    "    data = data[data.arr3 != \"1\"]\n",
    "\n",
    "if data.arr4.value_counts(ascending=True).index[1] == \"1\":\n",
    "    data = data[data.arr4 != \"0\"]\n",
    "else:\n",
    "    data = data[data.arr4 != \"1\"]\n",
    "\n",
    "if data.arr5.value_counts(ascending=True).index[1] == \"1\":\n",
    "    data = data[data.arr5 != \"0\"]\n",
    "else:\n",
    "    data = data[data.arr5 != \"1\"]\n",
    "\n",
    "if data.arr6.value_counts(ascending=True).index[1] == \"1\":\n",
    "    data = data[data.arr6 != \"0\"]\n",
    "else:\n",
    "    data = data[data.arr6 != \"1\"]\n",
    "    \n",
    "if data.arr7.value_counts(ascending=True).index[1] == \"1\":\n",
    "    data = data[data.arr7 != \"0\"]\n",
    "else:\n",
    "    data = data[data.arr7 != \"1\"]\n",
    "\n",
    "if data.arr8.value_counts(ascending=True).index[1] == \"1\":\n",
    "    data = data[data.arr8 != \"0\"]\n",
    "else:\n",
    "    data = data[data.arr8 != \"1\"]\n",
    "\n",
    "if data.arr9.value_counts(ascending=True).index[1] == \"1\":\n",
    "    data = data[data.arr9 != \"0\"]\n",
    "else:\n",
    "    data = data[data.arr9 != \"1\"]\n",
    "\n",
    "if data.arr10.value_counts(ascending=True).index[1] == \"1\":\n",
    "    data = data[data.arr10 != \"0\"]\n",
    "else:\n",
    "    data = data[data.arr10 != \"1\"]\n",
    "\n",
    "if data.arr11.value_counts(ascending=True).index[1] == \"1\":\n",
    "    data = data[data.arr11 != \"0\"]\n",
    "else:\n",
    "    data = data[data.arr11 != \"1\"]\n",
    "\n",
    "if data.arr12.value_counts(ascending=True).index[1] == \"1\":\n",
    "    data = data[data.arr12 != \"0\"]\n",
    "else:\n",
    "    data = data[data.arr12 != \"1\"]\n",
    "    \n",
    "\n"
   ]
  },
  {
   "cell_type": "code",
   "execution_count": 6,
   "metadata": {},
   "outputs": [
    {
     "name": "stdout",
     "output_type": "stream",
     "text": [
      "    arr1 arr2 arr3 arr4 arr5 arr6 arr7 arr8 arr9 arr10 arr11 arr12\n",
      "716    1    0    1    0    1    1    1    0    0     0     0     0\n"
     ]
    }
   ],
   "source": [
    "print(data.head())"
   ]
  },
  {
   "cell_type": "code",
   "execution_count": 103,
   "metadata": {},
   "outputs": [
    {
     "data": {
      "text/html": [
       "<div>\n",
       "<style scoped>\n",
       "    .dataframe tbody tr th:only-of-type {\n",
       "        vertical-align: middle;\n",
       "    }\n",
       "\n",
       "    .dataframe tbody tr th {\n",
       "        vertical-align: top;\n",
       "    }\n",
       "\n",
       "    .dataframe thead th {\n",
       "        text-align: right;\n",
       "    }\n",
       "</style>\n",
       "<table border=\"1\" class=\"dataframe\">\n",
       "  <thead>\n",
       "    <tr style=\"text-align: right;\">\n",
       "      <th></th>\n",
       "      <th>arr1</th>\n",
       "      <th>arr2</th>\n",
       "      <th>arr3</th>\n",
       "      <th>arr4</th>\n",
       "      <th>arr5</th>\n",
       "      <th>arr6</th>\n",
       "      <th>arr7</th>\n",
       "      <th>arr8</th>\n",
       "      <th>arr9</th>\n",
       "      <th>arr10</th>\n",
       "      <th>arr11</th>\n",
       "      <th>arr12</th>\n",
       "    </tr>\n",
       "  </thead>\n",
       "  <tbody>\n",
       "    <tr>\n",
       "      <th>0</th>\n",
       "      <td>0</td>\n",
       "      <td>0</td>\n",
       "      <td>0</td>\n",
       "      <td>1</td>\n",
       "      <td>1</td>\n",
       "      <td>0</td>\n",
       "      <td>0</td>\n",
       "      <td>1</td>\n",
       "      <td>1</td>\n",
       "      <td>0</td>\n",
       "      <td>1</td>\n",
       "      <td>1</td>\n",
       "    </tr>\n",
       "    <tr>\n",
       "      <th>1</th>\n",
       "      <td>0</td>\n",
       "      <td>1</td>\n",
       "      <td>0</td>\n",
       "      <td>0</td>\n",
       "      <td>1</td>\n",
       "      <td>1</td>\n",
       "      <td>0</td>\n",
       "      <td>1</td>\n",
       "      <td>0</td>\n",
       "      <td>0</td>\n",
       "      <td>0</td>\n",
       "      <td>0</td>\n",
       "    </tr>\n",
       "    <tr>\n",
       "      <th>2</th>\n",
       "      <td>1</td>\n",
       "      <td>1</td>\n",
       "      <td>1</td>\n",
       "      <td>1</td>\n",
       "      <td>0</td>\n",
       "      <td>1</td>\n",
       "      <td>0</td>\n",
       "      <td>1</td>\n",
       "      <td>0</td>\n",
       "      <td>0</td>\n",
       "      <td>0</td>\n",
       "      <td>1</td>\n",
       "    </tr>\n",
       "    <tr>\n",
       "      <th>3</th>\n",
       "      <td>1</td>\n",
       "      <td>1</td>\n",
       "      <td>1</td>\n",
       "      <td>1</td>\n",
       "      <td>0</td>\n",
       "      <td>1</td>\n",
       "      <td>0</td>\n",
       "      <td>0</td>\n",
       "      <td>1</td>\n",
       "      <td>0</td>\n",
       "      <td>0</td>\n",
       "      <td>0</td>\n",
       "    </tr>\n",
       "    <tr>\n",
       "      <th>4</th>\n",
       "      <td>0</td>\n",
       "      <td>0</td>\n",
       "      <td>0</td>\n",
       "      <td>0</td>\n",
       "      <td>1</td>\n",
       "      <td>0</td>\n",
       "      <td>0</td>\n",
       "      <td>0</td>\n",
       "      <td>1</td>\n",
       "      <td>1</td>\n",
       "      <td>1</td>\n",
       "      <td>0</td>\n",
       "    </tr>\n",
       "  </tbody>\n",
       "</table>\n",
       "</div>"
      ],
      "text/plain": [
       "  arr1 arr2 arr3 arr4 arr5 arr6 arr7 arr8 arr9 arr10 arr11 arr12\n",
       "0    0    0    0    1    1    0    0    1    1     0     1     1\n",
       "1    0    1    0    0    1    1    0    1    0     0     0     0\n",
       "2    1    1    1    1    0    1    0    1    0     0     0     1\n",
       "3    1    1    1    1    0    1    0    0    1     0     0     0\n",
       "4    0    0    0    0    1    0    0    0    1     1     1     0"
      ]
     },
     "execution_count": 103,
     "metadata": {},
     "output_type": "execute_result"
    }
   ],
   "source": [
    "data.head()"
   ]
  },
  {
   "cell_type": "code",
   "execution_count": 104,
   "metadata": {},
   "outputs": [
    {
     "data": {
      "text/plain": [
       "0    493\n",
       "1    507\n",
       "Name: arr10, dtype: int64"
      ]
     },
     "execution_count": 104,
     "metadata": {},
     "output_type": "execute_result"
    }
   ],
   "source": [
    "data.arr10.value_counts(ascending=True)"
   ]
  },
  {
   "cell_type": "code",
   "execution_count": 105,
   "metadata": {},
   "outputs": [
    {
     "ename": "IndexError",
     "evalue": "index 1 is out of bounds for axis 0 with size 1",
     "output_type": "error",
     "traceback": [
      "\u001b[0;31m---------------------------------------------------------------------------\u001b[0m",
      "\u001b[0;31mIndexError\u001b[0m                                Traceback (most recent call last)",
      "\u001b[0;32m/tmp/ipykernel_2071/1266617159.py\u001b[0m in \u001b[0;36m<module>\u001b[0;34m\u001b[0m\n\u001b[1;32m     44\u001b[0m     \u001b[0mdata\u001b[0m \u001b[0;34m=\u001b[0m \u001b[0mdata\u001b[0m\u001b[0;34m[\u001b[0m\u001b[0mdata\u001b[0m\u001b[0;34m.\u001b[0m\u001b[0marr9\u001b[0m \u001b[0;34m!=\u001b[0m \u001b[0;34m\"1\"\u001b[0m\u001b[0;34m]\u001b[0m\u001b[0;34m\u001b[0m\u001b[0;34m\u001b[0m\u001b[0m\n\u001b[1;32m     45\u001b[0m \u001b[0;34m\u001b[0m\u001b[0m\n\u001b[0;32m---> 46\u001b[0;31m \u001b[0;32mif\u001b[0m \u001b[0mdata\u001b[0m\u001b[0;34m.\u001b[0m\u001b[0marr10\u001b[0m\u001b[0;34m.\u001b[0m\u001b[0mvalue_counts\u001b[0m\u001b[0;34m(\u001b[0m\u001b[0mascending\u001b[0m\u001b[0;34m=\u001b[0m\u001b[0;32mTrue\u001b[0m\u001b[0;34m)\u001b[0m\u001b[0;34m.\u001b[0m\u001b[0mindex\u001b[0m\u001b[0;34m[\u001b[0m\u001b[0;36m1\u001b[0m\u001b[0;34m]\u001b[0m \u001b[0;34m==\u001b[0m \u001b[0;34m\"0\"\u001b[0m\u001b[0;34m:\u001b[0m\u001b[0;34m\u001b[0m\u001b[0;34m\u001b[0m\u001b[0m\n\u001b[0m\u001b[1;32m     47\u001b[0m     \u001b[0mdata\u001b[0m \u001b[0;34m=\u001b[0m \u001b[0mdata\u001b[0m\u001b[0;34m[\u001b[0m\u001b[0mdata\u001b[0m\u001b[0;34m.\u001b[0m\u001b[0marr10\u001b[0m \u001b[0;34m!=\u001b[0m \u001b[0;34m\"0\"\u001b[0m\u001b[0;34m]\u001b[0m\u001b[0;34m\u001b[0m\u001b[0;34m\u001b[0m\u001b[0m\n\u001b[1;32m     48\u001b[0m \u001b[0;32melse\u001b[0m\u001b[0;34m:\u001b[0m\u001b[0;34m\u001b[0m\u001b[0;34m\u001b[0m\u001b[0m\n",
      "\u001b[0;32m~/.pyenv/versions/3.8.12/envs/lewagon/lib/python3.8/site-packages/pandas/core/indexes/base.py\u001b[0m in \u001b[0;36m__getitem__\u001b[0;34m(self, key)\u001b[0m\n\u001b[1;32m   3956\u001b[0m         \u001b[0;32mif\u001b[0m \u001b[0mis_scalar\u001b[0m\u001b[0;34m(\u001b[0m\u001b[0mkey\u001b[0m\u001b[0;34m)\u001b[0m\u001b[0;34m:\u001b[0m\u001b[0;34m\u001b[0m\u001b[0;34m\u001b[0m\u001b[0m\n\u001b[1;32m   3957\u001b[0m             \u001b[0mkey\u001b[0m \u001b[0;34m=\u001b[0m \u001b[0mcom\u001b[0m\u001b[0;34m.\u001b[0m\u001b[0mcast_scalar_indexer\u001b[0m\u001b[0;34m(\u001b[0m\u001b[0mkey\u001b[0m\u001b[0;34m)\u001b[0m\u001b[0;34m\u001b[0m\u001b[0;34m\u001b[0m\u001b[0m\n\u001b[0;32m-> 3958\u001b[0;31m             \u001b[0;32mreturn\u001b[0m \u001b[0mgetitem\u001b[0m\u001b[0;34m(\u001b[0m\u001b[0mkey\u001b[0m\u001b[0;34m)\u001b[0m\u001b[0;34m\u001b[0m\u001b[0;34m\u001b[0m\u001b[0m\n\u001b[0m\u001b[1;32m   3959\u001b[0m \u001b[0;34m\u001b[0m\u001b[0m\n\u001b[1;32m   3960\u001b[0m         \u001b[0;32mif\u001b[0m \u001b[0misinstance\u001b[0m\u001b[0;34m(\u001b[0m\u001b[0mkey\u001b[0m\u001b[0;34m,\u001b[0m \u001b[0mslice\u001b[0m\u001b[0;34m)\u001b[0m\u001b[0;34m:\u001b[0m\u001b[0;34m\u001b[0m\u001b[0;34m\u001b[0m\u001b[0m\n",
      "\u001b[0;31mIndexError\u001b[0m: index 1 is out of bounds for axis 0 with size 1"
     ]
    }
   ],
   "source": []
  },
  {
   "cell_type": "code",
   "execution_count": 106,
   "metadata": {},
   "outputs": [
    {
     "data": {
      "text/html": [
       "<div>\n",
       "<style scoped>\n",
       "    .dataframe tbody tr th:only-of-type {\n",
       "        vertical-align: middle;\n",
       "    }\n",
       "\n",
       "    .dataframe tbody tr th {\n",
       "        vertical-align: top;\n",
       "    }\n",
       "\n",
       "    .dataframe thead th {\n",
       "        text-align: right;\n",
       "    }\n",
       "</style>\n",
       "<table border=\"1\" class=\"dataframe\">\n",
       "  <thead>\n",
       "    <tr style=\"text-align: right;\">\n",
       "      <th></th>\n",
       "      <th>arr1</th>\n",
       "      <th>arr2</th>\n",
       "      <th>arr3</th>\n",
       "      <th>arr4</th>\n",
       "      <th>arr5</th>\n",
       "      <th>arr6</th>\n",
       "      <th>arr7</th>\n",
       "      <th>arr8</th>\n",
       "      <th>arr9</th>\n",
       "      <th>arr10</th>\n",
       "      <th>arr11</th>\n",
       "      <th>arr12</th>\n",
       "    </tr>\n",
       "  </thead>\n",
       "  <tbody>\n",
       "    <tr>\n",
       "      <th>820</th>\n",
       "      <td>0</td>\n",
       "      <td>1</td>\n",
       "      <td>1</td>\n",
       "      <td>1</td>\n",
       "      <td>1</td>\n",
       "      <td>1</td>\n",
       "      <td>0</td>\n",
       "      <td>1</td>\n",
       "      <td>0</td>\n",
       "      <td>1</td>\n",
       "      <td>0</td>\n",
       "      <td>1</td>\n",
       "    </tr>\n",
       "  </tbody>\n",
       "</table>\n",
       "</div>"
      ],
      "text/plain": [
       "    arr1 arr2 arr3 arr4 arr5 arr6 arr7 arr8 arr9 arr10 arr11 arr12\n",
       "820    0    1    1    1    1    1    0    1    0     1     0     1"
      ]
     },
     "execution_count": 106,
     "metadata": {},
     "output_type": "execute_result"
    }
   ],
   "source": [
    "data"
   ]
  },
  {
   "cell_type": "code",
   "execution_count": 13,
   "metadata": {},
   "outputs": [
    {
     "data": {
      "text/plain": [
       "[0, 1, 0, 1, 1, 1, 1, 1, 1, 0, 0, 1]"
      ]
     },
     "execution_count": 13,
     "metadata": {},
     "output_type": "execute_result"
    }
   ],
   "source": [
    "epsilon_rate"
   ]
  },
  {
   "cell_type": "code",
   "execution_count": 107,
   "metadata": {},
   "outputs": [
    {
     "data": {
      "text/plain": [
       "5852595"
      ]
     },
     "execution_count": 107,
     "metadata": {},
     "output_type": "execute_result"
    }
   ],
   "source": [
    "2919 * 2005"
   ]
  }
 ],
 "metadata": {
  "interpreter": {
   "hash": "23d24ff32a39395fcdc68e13f5d327de8f48f6796c73d2c25464bd1cbd483aa1"
  },
  "kernelspec": {
   "display_name": "Python 3.8.12 64-bit ('lewagon': pyenv)",
   "language": "python",
   "name": "python3"
  },
  "language_info": {
   "codemirror_mode": {
    "name": "ipython",
    "version": 3
   },
   "file_extension": ".py",
   "mimetype": "text/x-python",
   "name": "python",
   "nbconvert_exporter": "python",
   "pygments_lexer": "ipython3",
   "version": "3.8.12"
  },
  "orig_nbformat": 4
 },
 "nbformat": 4,
 "nbformat_minor": 2
}
