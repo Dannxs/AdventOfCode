{
 "cells": [
  {
   "cell_type": "code",
   "execution_count": 1,
   "metadata": {},
   "outputs": [
    {
     "name": "stdout",
     "output_type": "stream",
     "text": [
      "1661\n",
      "334\n"
     ]
    }
   ],
   "source": [
    "from itertools import count, product\n",
    "\n",
    "with open(\"./txtfile/exo11.txt\") as f:\n",
    "    ls = f.read().strip().split(\"\\n\")\n",
    "\n",
    "board = {x + 1j * y: int(ls[x][y]) for (x, y) in product(range(10), repeat=2)}\n",
    "dirs = {z for (x, y) in product((-1, 0, 1), repeat=2) if (z := x + y * 1j)}\n",
    "adjacent = {w: {w + z for z in dirs} & set(board) for w in board}\n",
    "\n",
    "\n",
    "def step():\n",
    "    for w in level:\n",
    "        level[w] += 1\n",
    "    flashed = set()\n",
    "    while True:\n",
    "        flashing = {w for w, l in level.items() if l > 9} - flashed\n",
    "        if not flashing:\n",
    "            for w in flashed:\n",
    "                level[w] = 0\n",
    "            return len(flashed)\n",
    "        flashed |= flashing\n",
    "        for w in flashing:\n",
    "            for z in adjacent[w]:\n",
    "                level[z] += 1\n",
    "\n",
    "\n",
    "# Part one\n",
    "level = dict(board)\n",
    "print(sum(step() for _ in range(100)))\n",
    "\n",
    "# Part two\n",
    "level = dict(board)\n",
    "print(next(i for i in count(1) if step() == 100))"
   ]
  }
 ],
 "metadata": {
  "interpreter": {
   "hash": "23d24ff32a39395fcdc68e13f5d327de8f48f6796c73d2c25464bd1cbd483aa1"
  },
  "kernelspec": {
   "display_name": "Python 3.8.12 64-bit ('lewagon': pyenv)",
   "language": "python",
   "name": "python3"
  },
  "language_info": {
   "codemirror_mode": {
    "name": "ipython",
    "version": 3
   },
   "file_extension": ".py",
   "mimetype": "text/x-python",
   "name": "python",
   "nbconvert_exporter": "python",
   "pygments_lexer": "ipython3",
   "version": "3.8.12"
  },
  "orig_nbformat": 4
 },
 "nbformat": 4,
 "nbformat_minor": 2
}
