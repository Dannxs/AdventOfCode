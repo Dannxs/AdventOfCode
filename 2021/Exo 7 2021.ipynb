{
 "cells": [
  {
   "cell_type": "code",
   "execution_count": 1,
   "metadata": {},
   "outputs": [
    {
     "name": "stdout",
     "output_type": "stream",
     "text": [
      "355592\n",
      "101618069\n"
     ]
    }
   ],
   "source": [
    "with open('./txtfile/exo7.txt') as f:\n",
    "    data = [int(x) for x in f.read().split(',')]\n",
    "\n",
    "linear_weights = [0] * len(data)\n",
    "quadratic_weights = [0] * len(data)\n",
    "for i in range(len(data)):\n",
    "    for position in data:\n",
    "        move = abs(position - i)\n",
    "        linear_weights[i] += move\n",
    "        quadratic_weights[i] += move * (move + 1) // 2\n",
    "\n",
    "print(min(linear_weights))\n",
    "print(min(quadratic_weights))"
   ]
  }
 ],
 "metadata": {
  "interpreter": {
   "hash": "23d24ff32a39395fcdc68e13f5d327de8f48f6796c73d2c25464bd1cbd483aa1"
  },
  "kernelspec": {
   "display_name": "Python 3.8.12 64-bit ('lewagon': pyenv)",
   "language": "python",
   "name": "python3"
  },
  "language_info": {
   "codemirror_mode": {
    "name": "ipython",
    "version": 3
   },
   "file_extension": ".py",
   "mimetype": "text/x-python",
   "name": "python",
   "nbconvert_exporter": "python",
   "pygments_lexer": "ipython3",
   "version": "3.8.12"
  },
  "orig_nbformat": 4
 },
 "nbformat": 4,
 "nbformat_minor": 2
}
