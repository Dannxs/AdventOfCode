{
 "cells": [
  {
   "cell_type": "code",
   "execution_count": 3,
   "metadata": {},
   "outputs": [
    {
     "name": "stdout",
     "output_type": "stream",
     "text": [
      "500\n",
      "970200\n"
     ]
    }
   ],
   "source": [
    "from bisect import insort\n",
    "from collections import deque\n",
    "from itertools import product\n",
    "from math import prod\n",
    "\n",
    "\n",
    "def get_adjacent(data, i, j):\n",
    "    adjacent = []\n",
    "    for dy, dx in (-1, 0), (1, 0), (0, -1), (0, 1):\n",
    "        i1, j1 = i + dy, j + dx\n",
    "        if 0 <= i1 < len(data) and 0 <= j1 < len(data[0]):\n",
    "            adjacent.append((i1, j1))\n",
    "    return adjacent\n",
    "\n",
    "\n",
    "def bfs(data, i, j):\n",
    "    visited = [(i, j)]\n",
    "    queue = deque(((i, j),))\n",
    "    while queue:\n",
    "        i, j = queue.pop()\n",
    "        for i1, j1 in get_adjacent(data, i, j):\n",
    "            if (i1, j1) not in visited and data[i1][j1] != 9:\n",
    "                queue.appendleft((i1, j1))\n",
    "                visited.append((i1, j1))\n",
    "    return len(visited)\n",
    "\n",
    "\n",
    "with open('./txtfile/exo9.txt') as f:\n",
    "    data = [[int(value) for value in line.strip()] for line in f]\n",
    "\n",
    "risks = []\n",
    "basins = []\n",
    "for i, j in product(range(len(data)), range(len(data[0]))):\n",
    "    adjacent = get_adjacent(data, i, j)\n",
    "    if all(data[i][j] < data[i1][j1] for (i1, j1) in adjacent):\n",
    "        risks.append(data[i][j] + 1)\n",
    "        insort(basins, bfs(data, i, j))\n",
    "\n",
    "print(sum(risks))\n",
    "print(prod(basins[-3:]))"
   ]
  }
 ],
 "metadata": {
  "interpreter": {
   "hash": "23d24ff32a39395fcdc68e13f5d327de8f48f6796c73d2c25464bd1cbd483aa1"
  },
  "kernelspec": {
   "display_name": "Python 3.8.12 64-bit ('lewagon': pyenv)",
   "language": "python",
   "name": "python3"
  },
  "language_info": {
   "codemirror_mode": {
    "name": "ipython",
    "version": 3
   },
   "file_extension": ".py",
   "mimetype": "text/x-python",
   "name": "python",
   "nbconvert_exporter": "python",
   "pygments_lexer": "ipython3",
   "version": "3.8.12"
  },
  "orig_nbformat": 4
 },
 "nbformat": 4,
 "nbformat_minor": 2
}
